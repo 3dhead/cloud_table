{
 "cells": [
  {
   "cell_type": "markdown",
   "metadata": {},
   "source": [
    "## Create Dataset"
   ]
  },
  {
   "cell_type": "code",
   "execution_count": 1,
   "metadata": {},
   "outputs": [],
   "source": [
    "from lib.data_loader import PointCloudDataset\n",
    "from torch.utils.data import DataLoader\n",
    "import torch"
   ]
  },
  {
   "cell_type": "code",
   "execution_count": 2,
   "metadata": {},
   "outputs": [],
   "source": [
    "point_cloud_dataset = PointCloudDataset(1)#8480\n",
    "dataloader = DataLoader(point_cloud_dataset, batch_size=1, shuffle=True)"
   ]
  },
  {
   "cell_type": "code",
   "execution_count": 3,
   "metadata": {},
   "outputs": [],
   "source": [
    "def rotate_point_cloud(batch_data):\n",
    "\n",
    "    for k in range(batch_data.shape[0]):\n",
    "        \n",
    "        # 90, 180, 270 degree\n",
    "        rotation_angle = int(np.random.uniform() * 4) * np.pi * 0.5\n",
    "\n",
    "        cosval = np.cos(rotation_angle)\n",
    "        sinval = np.sin(rotation_angle)\n",
    "        \n",
    "        rotation_matrix = torch.Tensor([[cosval, -sinval, 0],\n",
    "                                    [sinval, cosval, 0],\n",
    "                                    [0, 0, 1]])\n",
    "        \n",
    "        shape_pc = batch_data[k, ...].transpose(1, 0)\n",
    "                \n",
    "        batch_data[k, ...] = torch.matmul(shape_pc.reshape((-1, 3)), rotation_matrix).transpose(1, 0)\n",
    "        \n",
    "    return batch_data"
   ]
  },
  {
   "cell_type": "markdown",
   "metadata": {},
   "source": [
    "## Training"
   ]
  },
  {
   "cell_type": "code",
   "execution_count": 4,
   "metadata": {},
   "outputs": [
    {
     "name": "stdout",
     "output_type": "stream",
     "text": [
      "epoch [1/10], loss:33.9562\n"
     ]
    }
   ],
   "source": [
    "import torch\n",
    "from torch.autograd import Variable\n",
    "from lib.small_auto_encoder import *\n",
    "from lib.chamfer import ChamferLoss\n",
    "from lib.callbacks import EarlyStopping\n",
    "\n",
    "model = AutoEncoder()\n",
    "\n",
    "criterion = ChamferLoss()\n",
    "\n",
    "early_stopping = EarlyStopping(patience=50)\n",
    "\n",
    "num_epochs = 10\n",
    "learning_rate = 1e-3\n",
    "\n",
    "optimizer = torch.optim.Adam(model.parameters(), lr=learning_rate)\n",
    "\n",
    "if torch.cuda.is_available():\n",
    "    model = model.cuda()\n",
    "\n",
    "loss_list = []\n",
    "for epoch in range(num_epochs):\n",
    "    \n",
    "    if epoch == 0:\n",
    "        early_stopping.on_train_begin()\n",
    "\n",
    "    running_loss = 0.0\n",
    "    \n",
    "    for data in dataloader:\n",
    "\n",
    "        data = rotate_point_cloud(data.float())\n",
    "                \n",
    "        if torch.cuda.is_available():\n",
    "            data = data.cuda()\n",
    "            \n",
    "        train_output = model(data)\n",
    "        \n",
    "        loss = criterion(train_output, data)\n",
    "\n",
    "        optimizer.zero_grad()\n",
    "        loss.backward()\n",
    "        optimizer.step()\n",
    "        \n",
    "        running_loss += loss.data.detach() \n",
    "    \n",
    "    loss_list.append(running_loss / data.shape[0])\n",
    "    \n",
    "    if early_stopping.on_epoch_end(epoch + 1, running_loss):\n",
    "        print('epoch [{}/{}], loss:{:.4f}'.format(epoch + 1, num_epochs, loss_list[-1]))\n",
    "        print('Terminated Training for Early Stopping at Epoch %04i' % (epoch + 1))\n",
    "        break\n",
    "        \n",
    "    if (epoch + 1) % 20 == 0 or epoch == 0:\n",
    "        print('epoch [{}/{}], loss:{:.4f}'.format(epoch + 1, num_epochs, loss_list[-1]))"
   ]
  },
  {
   "cell_type": "markdown",
   "metadata": {},
   "source": [
    "#### save"
   ]
  },
  {
   "cell_type": "code",
   "execution_count": 5,
   "metadata": {},
   "outputs": [
    {
     "data": {
      "image/png": "[encoded data removed]",
      "text/plain": [
       "<matplotlib.figure.Figure at 0x11786f9b0>"
      ]
     },
     "metadata": {},
     "output_type": "display_data"
    }
   ],
   "source": [
    "import matplotlib.pyplot as plt\n",
    "\n",
    "fig = plt.figure(figsize=(10, 5))        \n",
    "fig.suptitle('loss transition')\n",
    "plt.semilogy(loss_list, label=\"loss\", color='b')\n",
    "plt.xlim([0, epoch + 1])\n",
    "plt.xlabel('epoch')\n",
    "plt.ylabel('loss')\n",
    "plt.savefig('./models/%.4f.png' % loss_list[-1])\n",
    "plt.show()\n",
    "\n",
    "torch.save(model.encoder.state_dict(), './models/encoder_%.4f.pt' % loss_list[-1])\n",
    "torch.save(model.decoder.state_dict(), './models/decoder_%.4f.pt' % loss_list[-1])"
   ]
  },
  {
   "cell_type": "markdown",
   "metadata": {},
   "source": [
    "### get input values for validation"
   ]
  },
  {
   "cell_type": "code",
   "execution_count": 6,
   "metadata": {},
   "outputs": [],
   "source": [
    "train_input  = next(iter(dataloader)).float()\n",
    "train_input = rotate_point_cloud(train_input.float())\n",
    "\n",
    "if torch.cuda.is_available():\n",
    "    train_output = model(train_input.cuda())\n",
    "    train_output = train_output.cpu()\n",
    "else:\n",
    "    train_output = model(train_input)"
   ]
  },
  {
   "cell_type": "code",
   "execution_count": 7,
   "metadata": {},
   "outputs": [],
   "source": [
    "v_encoder = Encoder()\n",
    "v_decoder = Decoder()\n",
    "\n",
    "surfix = loss_list[-1]\n",
    "v_encoder.load_state_dict(torch.load('./models/encoder_%.4f.pt' % surfix))\n",
    "v_decoder.load_state_dict(torch.load('./models/decoder_%.4f.pt' % surfix))"
   ]
  },
  {
   "cell_type": "markdown",
   "metadata": {},
   "source": [
    "## Generator"
   ]
  },
  {
   "cell_type": "code",
   "execution_count": 8,
   "metadata": {},
   "outputs": [],
   "source": [
    "class Generator(AutoEncoder):\n",
    "    \n",
    "    def __init__(self, encoder, decoder):\n",
    "        super(Generator, self).__init__()\n",
    "\n",
    "        self.encoder = encoder\n",
    "        self.decoder = decoder\n",
    "        self.training = False\n",
    "\n",
    "    def forward(self, x):\n",
    "\n",
    "        x = self.encoder(x)        \n",
    "        x = self.decoder(x)\n",
    "        return x"
   ]
  },
  {
   "cell_type": "code",
   "execution_count": 9,
   "metadata": {},
   "outputs": [],
   "source": [
    "generator = Generator(v_encoder, v_decoder)\n",
    "generator_output = generator(train_input)"
   ]
  },
  {
   "cell_type": "markdown",
   "metadata": {},
   "source": [
    "## Validation"
   ]
  },
  {
   "cell_type": "code",
   "execution_count": 10,
   "metadata": {},
   "outputs": [],
   "source": [
    "import matplotlib.pyplot as plt\n",
    "from mpl_toolkits.mplot3d import Axes3D"
   ]
  },
  {
   "cell_type": "code",
   "execution_count": 13,
   "metadata": {},
   "outputs": [
    {
     "data": {
      "image/png": "[encoded data removed]",
      "text/plain": [
       "<matplotlib.figure.Figure at 0x11e6bd240>"
      ]
     },
     "metadata": {},
     "output_type": "display_data"
    }
   ],
   "source": [
    "fig = plt.figure(figsize=(18, 8))\n",
    "\n",
    "for i in range(1):\n",
    "    \n",
    "    row, columns, num = 2, 4, i + 1\n",
    "    ax = fig.add_subplot(row, columns, num, projection='3d')\n",
    "\n",
    "    data = train_input[i].detach().numpy()\n",
    "    ax.scatter(data[0], data[1], data[2], zdir='z', s=2, c='b', label='ground truth')\n",
    "\n",
    "    data = train_output[i].detach().numpy()\n",
    "    ax.scatter(data[0], data[1], data[2], zdir='z', s=2, c='r', label='decoded')\n",
    "\n",
    "#     data = generator_output[i].detach().numpy()\n",
    "#     ax.scatter(data[0], data[1], data[2], zdir='z', s=4, c='g', label='decoded & modified')\n",
    "\n",
    "ax.legend()\n",
    "plt.show()"
   ]
  },
  {
   "cell_type": "code",
   "execution_count": 32,
   "metadata": {},
   "outputs": [
    {
     "name": "stdout",
     "output_type": "stream",
     "text": [
      "1080.989\n",
      "1100.667\n",
      "946.85846\n",
      "914.7529\n",
      "1098.2229\n",
      "1198.0217\n",
      "1261.8218\n",
      "1264.4851\n"
     ]
    }
   ],
   "source": [
    "for i in range(8):\n",
    "    d1 = train_input[i].detach().numpy()\n",
    "    d2 = train_output[i].detach().numpy()\n",
    "    print(np.sum(abs(d1 - d2)))"
   ]
  },
  {
   "cell_type": "code",
   "execution_count": 13,
   "metadata": {},
   "outputs": [
    {
     "name": "stdout",
     "output_type": "stream",
     "text": [
      "tensor(3.2236)\n",
      "tensor(1.7605)\n",
      "tensor(0.8148)\n",
      "tensor(1.4209)\n",
      "tensor(1.0830)\n",
      "tensor(2.1858)\n",
      "tensor(1.2781)\n",
      "tensor(1.0025)\n"
     ]
    }
   ],
   "source": [
    "for i in range(8):\n",
    "    d1 = train_input[i]\n",
    "    d2 = train_output[i]\n",
    "    print(criterion(d1.reshape(1, 3, 2048), d2.reshape(1, 3, 2048)).data)"
   ]
  },
  {
   "cell_type": "markdown",
   "metadata": {},
   "source": [
    "## Write to File"
   ]
  },
  {
   "cell_type": "code",
   "execution_count": null,
   "metadata": {},
   "outputs": [],
   "source": [
    "def write(points, file_name, directory='./output/'):\n",
    "    \n",
    "    if points.shape[0] < points.shape[1] and points.shape[0] == 3:\n",
    "        points = points.T\n",
    "    \n",
    "    with open(directory + file_name, 'w') as f:\n",
    "        \n",
    "        f.write(str(points.shape[0]) + '\\n')\n",
    "\n",
    "        for pt in points:\n",
    "            f.write('%.8f %.8f %.8f\\n' % tuple(pt))\n",
    "    \n",
    "write(next(iter(dataloader))[2].detach().numpy(), 'point_cloud.txt', '../pointcloud2mesh/mount/')"
   ]
  },
  {
   "cell_type": "markdown",
   "metadata": {},
   "source": [
    "## TODOs\n",
    "\n",
    "* Manimulate latent vector or try something else to generate more nice tables\n",
    "* Reduce the number of point clouds or connect each points reasonably"
   ]
  },
  {
   "cell_type": "markdown",
   "metadata": {},
   "source": [
    "## Misc"
   ]
  },
  {
   "cell_type": "code",
   "execution_count": null,
   "metadata": {},
   "outputs": [],
   "source": [
    "input = torch.randn(10, 2048, 3)\n",
    "print(input.shape)\n",
    "m = nn.Conv1d(2048, 256, 1)\n",
    "output = m(input)\n",
    "print(output.shape)\n",
    "m = nn.Conv1d(256, 128, 1)\n",
    "output = m(output)\n",
    "m = nn.Conv1d(128, 64, 1)\n",
    "output = m(output)\n",
    "print(output.shape)\n",
    "m = nn.Conv1d(64, 32, 1)\n",
    "output = m(output)\n",
    "print(output.shape)\n",
    "m = nn.MaxPool1d(3)\n",
    "output = m(output)\n",
    "print(output.shape)"
   ]
  },
  {
   "cell_type": "code",
   "execution_count": null,
   "metadata": {},
   "outputs": [],
   "source": [
    "input = torch.randn(10, 3, 2048)\n",
    "print(input.shape)\n",
    "m = nn.Conv1d(3, 64, 1)\n",
    "output = m(input)\n",
    "print(output.shape)\n",
    "m = nn.Conv1d(64, 128, 1)\n",
    "output = m(output)\n",
    "m = nn.Conv1d(128, 256, 1)\n",
    "output = m(output)\n",
    "print(output.shape)\n",
    "m = nn.Conv1d(256, 512, 1)\n",
    "output = m(output)\n",
    "print(output.shape)\n",
    "m = nn.MaxPool1d(2048) # output = torch.max(output, 2, keepdim=True)[0]\n",
    "output = m(output)\n",
    "print(output.shape)"
   ]
  },
  {
   "cell_type": "code",
   "execution_count": null,
   "metadata": {},
   "outputs": [],
   "source": [
    "class TmpLoss(nn.Module):\n",
    "\n",
    "    # https://github.com/345ishaan/DenseLidarNet/blob/master/code/chamfer_loss.py\n",
    "    def __init__(self):\n",
    "        super(TmpLoss, self).__init__()\n",
    "        self.use_cuda = torch.cuda.is_available()        \n",
    "\n",
    "    def forward(self,preds,gts):\n",
    "        P = self.batch_pairwise_dist(gts, preds)\n",
    "        mins, _ = torch.min(P, 1)\n",
    "        loss_1 = torch.sum(mins)\n",
    "        mins, _ = torch.min(P, 2)\n",
    "        loss_2 = torch.sum(mins)\n",
    "        return loss_1 + loss_2\n",
    "\n",
    "    def batch_pairwise_dist(self,x,y):\n",
    "        x = x.transpose(2, 1)\n",
    "        y = y.transpose(2, 1)\n",
    "        _, num_points_x, _ = x.size()\n",
    "        _, num_points_y, _ = y.size()\n",
    "        xx = torch.bmm(x, x.transpose(2,1))\n",
    "        yy = torch.bmm(y, y.transpose(2,1))\n",
    "        zz = torch.bmm(x, y.transpose(2,1))\n",
    "        if self.use_cuda:\n",
    "            dtype = torch.cuda.LongTensor\n",
    "        else:\n",
    "            dtype = torch.LongTensor\n",
    "        diag_ind_x = torch.arange(0, num_points_x).type(dtype)\n",
    "        diag_ind_y = torch.arange(0, num_points_y).type(dtype)\n",
    "        rx = xx[:, diag_ind_x, diag_ind_x].unsqueeze(1).expand_as(zz.transpose(2,1))\n",
    "        ry = yy[:, diag_ind_y, diag_ind_y].unsqueeze(1).expand_as(zz)\n",
    "        P = (rx.transpose(2,1) + ry - 2*zz)\n",
    "        return P"
   ]
  },
  {
   "cell_type": "code",
   "execution_count": null,
   "metadata": {},
   "outputs": [],
   "source": [
    "input = Variable(torch.ones(2, 3, 12))\n",
    "output = Variable(torch.zeros(2, 3, 12))\n",
    "ls = TmpLoss()\n",
    "ls.forward(input, output)"
   ]
  },
  {
   "cell_type": "code",
   "execution_count": null,
   "metadata": {},
   "outputs": [],
   "source": [
    "xx = torch.bmm(input, input.transpose(2,1))\n",
    "xx.shape"
   ]
  },
  {
   "cell_type": "code",
   "execution_count": null,
   "metadata": {},
   "outputs": [],
   "source": [
    "input.transpose(2,1)"
   ]
  },
  {
   "cell_type": "code",
   "execution_count": null,
   "metadata": {},
   "outputs": [],
   "source": [
    "! docker exec cgal /DeepTable/pointcloud2mesh/build/pointcloud2mesh.out ./mount/point_cloud.txt ./mount/output.off"
   ]
  },
  {
   "cell_type": "code",
   "execution_count": null,
   "metadata": {},
   "outputs": [],
   "source": [
    "def load_file(file_name):\n",
    "    vertices = []\n",
    "    with open(file_name) as f:\n",
    "        for i, line in enumerate(f):\n",
    "            vals = line.split(' ')\n",
    "            if i > 2 and len(vals) == 3:\n",
    "                vertex = [float(vals[0]), float(vals[1]), float(vals[2])]\n",
    "                vertices.append(np.array(vertex))\n",
    "\n",
    "    return np.random.permutation(np.array(vertices))[:2048]\n",
    "\n",
    "lines = load_file('../pointcloud2mesh/mount/output.off')\n",
    "pts.shape\n",
    "# trace = go.Mesh3d(x=x,y=y,z=z,color='#FFB6C1',opacity=0.50)\n",
    "# py.iplot([trace])"
   ]
  },
  {
   "cell_type": "code",
   "execution_count": null,
   "metadata": {},
   "outputs": [],
   "source": []
  }
 ],
 "metadata": {
  "kernelspec": {
   "display_name": "Python 3",
   "language": "python",
   "name": "python3"
  },
  "language_info": {
   "codemirror_mode": {
    "name": "ipython",
    "version": 3
   },
   "file_extension": ".py",
   "mimetype": "text/x-python",
   "name": "python",
   "nbconvert_exporter": "python",
   "pygments_lexer": "ipython3",
   "version": "3.6.6"
  }
 },
 "nbformat": 4,
 "nbformat_minor": 2
}
