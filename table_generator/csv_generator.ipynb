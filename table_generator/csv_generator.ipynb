{
 "cells": [
  {
   "cell_type": "code",
   "execution_count": 2,
   "metadata": {},
   "outputs": [],
   "source": [
    "import pandas as pd\n",
    "import numpy as np\n",
    "from torch.utils.data import Dataset\n",
    "import glob\n",
    "from pyntcloud import PyntCloud\n",
    "\n",
    "def load_ply(file_name):\n",
    "    cloud = PyntCloud.from_file(file_name)\n",
    "    return cloud.points.values"
   ]
  },
  {
   "cell_type": "code",
   "execution_count": 4,
   "metadata": {},
   "outputs": [
    {
     "name": "stdout",
     "output_type": "stream",
     "text": [
      "./data/04379243\\1011e1c9812b84d2a9ed7bb5b55809f8.ply\n"
     ]
    }
   ],
   "source": [
    "file_names = glob.glob('./data/04379243/*.ply')\n",
    "\n",
    "point_clouds = []\n",
    "for file_name in file_names:\n",
    "    print(file_name)\n",
    "    name = file_name.split('.')[1].split('\\\\')[1]\n",
    "    points = load_ply(file_name)\n",
    "\n",
    "    output_name = './data/csv/%s.csv' % name\n",
    "    np.savetxt(output_name, points, delimiter=',', fmt='%.4f')"
   ]
  },
  {
   "cell_type": "code",
   "execution_count": null,
   "metadata": {},
   "outputs": [],
   "source": []
  }
 ],
 "metadata": {
  "kernelspec": {
   "display_name": "Python 3",
   "language": "python",
   "name": "python3"
  },
  "language_info": {
   "codemirror_mode": {
    "name": "ipython",
    "version": 3
   },
   "file_extension": ".py",
   "mimetype": "text/x-python",
   "name": "python",
   "nbconvert_exporter": "python",
   "pygments_lexer": "ipython3",
   "version": "3.6.0"
  }
 },
 "nbformat": 4,
 "nbformat_minor": 2
}
