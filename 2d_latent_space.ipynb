{
 "cells": [
  {
   "cell_type": "code",
   "execution_count": 1,
   "metadata": {},
   "outputs": [],
   "source": [
    "import torch\n",
    "from torch.autograd import Variable\n",
    "from table_generator.lib.io import load_point_clouds, write_point_cloud\n",
    "from table_generator.lib.small_auto_encoder import Encoder, Decoder, AutoEncoder\n",
    "%matplotlib inline\n",
    "import matplotlib.pyplot as plt\n",
    "import numpy as np"
   ]
  },
  {
   "cell_type": "code",
   "execution_count": 2,
   "metadata": {},
   "outputs": [
    {
     "ename": "RuntimeError",
     "evalue": "Error(s) in loading state_dict for Encoder:\n\tsize mismatch for conv5.weight: copying a param of torch.Size([2, 256, 1]) from checkpoint, where the shape is torch.Size([16, 256, 1]) in current model.\n\tsize mismatch for conv5.bias: copying a param of torch.Size([2]) from checkpoint, where the shape is torch.Size([16]) in current model.\n\tsize mismatch for bn5.weight: copying a param of torch.Size([2]) from checkpoint, where the shape is torch.Size([16]) in current model.\n\tsize mismatch for bn5.bias: copying a param of torch.Size([2]) from checkpoint, where the shape is torch.Size([16]) in current model.\n\tsize mismatch for bn5.running_mean: copying a param of torch.Size([2]) from checkpoint, where the shape is torch.Size([16]) in current model.\n\tsize mismatch for bn5.running_var: copying a param of torch.Size([2]) from checkpoint, where the shape is torch.Size([16]) in current model.",
     "output_type": "error",
     "traceback": [
      "\u001b[1;31m---------------------------------------------------------------------------\u001b[0m",
      "\u001b[1;31mRuntimeError\u001b[0m                              Traceback (most recent call last)",
      "\u001b[1;32m<ipython-input-2-a16a29fdf808>\u001b[0m in \u001b[0;36m<module>\u001b[1;34m\u001b[0m\n\u001b[0;32m      1\u001b[0m \u001b[0mencoder\u001b[0m \u001b[1;33m=\u001b[0m \u001b[0mEncoder\u001b[0m\u001b[1;33m(\u001b[0m\u001b[1;33m)\u001b[0m\u001b[1;33m\u001b[0m\u001b[0m\n\u001b[1;32m----> 2\u001b[1;33m \u001b[0mencoder\u001b[0m\u001b[1;33m.\u001b[0m\u001b[0mload_state_dict\u001b[0m\u001b[1;33m(\u001b[0m\u001b[0mtorch\u001b[0m\u001b[1;33m.\u001b[0m\u001b[0mload\u001b[0m\u001b[1;33m(\u001b[0m\u001b[1;34m'./table_generator/models/encoder_2d.pt'\u001b[0m\u001b[1;33m,\u001b[0m \u001b[0mmap_location\u001b[0m\u001b[1;33m=\u001b[0m\u001b[1;33m{\u001b[0m\u001b[1;34m'cuda:0'\u001b[0m\u001b[1;33m:\u001b[0m \u001b[1;34m'cpu'\u001b[0m\u001b[1;33m}\u001b[0m\u001b[1;33m)\u001b[0m\u001b[1;33m)\u001b[0m\u001b[1;33m\u001b[0m\u001b[0m\n\u001b[0m",
      "\u001b[1;32mC:\\tools\\Anaconda2\\envs\\python36\\lib\\site-packages\\torch\\nn\\modules\\module.py\u001b[0m in \u001b[0;36mload_state_dict\u001b[1;34m(self, state_dict, strict)\u001b[0m\n\u001b[0;32m    717\u001b[0m         \u001b[1;32mif\u001b[0m \u001b[0mlen\u001b[0m\u001b[1;33m(\u001b[0m\u001b[0merror_msgs\u001b[0m\u001b[1;33m)\u001b[0m \u001b[1;33m>\u001b[0m \u001b[1;36m0\u001b[0m\u001b[1;33m:\u001b[0m\u001b[1;33m\u001b[0m\u001b[0m\n\u001b[0;32m    718\u001b[0m             raise RuntimeError('Error(s) in loading state_dict for {}:\\n\\t{}'.format(\n\u001b[1;32m--> 719\u001b[1;33m                                self.__class__.__name__, \"\\n\\t\".join(error_msgs)))\n\u001b[0m\u001b[0;32m    720\u001b[0m \u001b[1;33m\u001b[0m\u001b[0m\n\u001b[0;32m    721\u001b[0m     \u001b[1;32mdef\u001b[0m \u001b[0mparameters\u001b[0m\u001b[1;33m(\u001b[0m\u001b[0mself\u001b[0m\u001b[1;33m)\u001b[0m\u001b[1;33m:\u001b[0m\u001b[1;33m\u001b[0m\u001b[0m\n",
      "\u001b[1;31mRuntimeError\u001b[0m: Error(s) in loading state_dict for Encoder:\n\tsize mismatch for conv5.weight: copying a param of torch.Size([2, 256, 1]) from checkpoint, where the shape is torch.Size([16, 256, 1]) in current model.\n\tsize mismatch for conv5.bias: copying a param of torch.Size([2]) from checkpoint, where the shape is torch.Size([16]) in current model.\n\tsize mismatch for bn5.weight: copying a param of torch.Size([2]) from checkpoint, where the shape is torch.Size([16]) in current model.\n\tsize mismatch for bn5.bias: copying a param of torch.Size([2]) from checkpoint, where the shape is torch.Size([16]) in current model.\n\tsize mismatch for bn5.running_mean: copying a param of torch.Size([2]) from checkpoint, where the shape is torch.Size([16]) in current model.\n\tsize mismatch for bn5.running_var: copying a param of torch.Size([2]) from checkpoint, where the shape is torch.Size([16]) in current model."
     ]
    }
   ],
   "source": [
    "encoder = Encoder()\n",
    "encoder.load_state_dict(torch.load('./table_generator/models/encoder_2d.pt', map_location={'cuda:0': 'cpu'}))"
   ]
  },
  {
   "cell_type": "code",
   "execution_count": null,
   "metadata": {},
   "outputs": [],
   "source": [
    "index_list = range(1000)\n",
    "point_clouds = load_point_clouds(index_list, directory='./table_generator/data/04379243')"
   ]
  },
  {
   "cell_type": "code",
   "execution_count": null,
   "metadata": {},
   "outputs": [],
   "source": [
    "latent_vector = encoder(point_clouds).detach().numpy()\n",
    "latent_vector = latent_vector.reshape(-1, 32)\n",
    "\n",
    "latent_vector.shape"
   ]
  },
  {
   "cell_type": "code",
   "execution_count": null,
   "metadata": {},
   "outputs": [],
   "source": [
    "latent_vector_2d = tsne(latent_vector, 2, 32, 20.0)"
   ]
  },
  {
   "cell_type": "code",
   "execution_count": null,
   "metadata": {},
   "outputs": [],
   "source": [
    "plt.scatter(latent_vector_2d[:, 0], latent_vector_2d[:, 1])\n",
    "plt.show()"
   ]
  },
  {
   "cell_type": "code",
   "execution_count": null,
   "metadata": {},
   "outputs": [],
   "source": [
    "np.savetxt('2d_vector.csv', latent_vector_2d, delimiter=',')"
   ]
  },
  {
   "cell_type": "code",
   "execution_count": null,
   "metadata": {},
   "outputs": [],
   "source": []
  }
 ],
 "metadata": {
  "kernelspec": {
   "display_name": "Python 3",
   "language": "python",
   "name": "python3"
  },
  "language_info": {
   "codemirror_mode": {
    "name": "ipython",
    "version": 3
   },
   "file_extension": ".py",
   "mimetype": "text/x-python",
   "name": "python",
   "nbconvert_exporter": "python",
   "pygments_lexer": "ipython3",
   "version": "3.6.6"
  }
 },
 "nbformat": 4,
 "nbformat_minor": 2
}
