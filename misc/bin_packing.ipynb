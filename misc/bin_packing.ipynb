{
 "cells": [
  {
   "cell_type": "markdown",
   "metadata": {},
   "source": [
    "## Pseudo Data"
   ]
  },
  {
   "cell_type": "code",
   "execution_count": 84,
   "metadata": {},
   "outputs": [],
   "source": [
    "import random\n",
    "\n",
    "with open('./rods_length.dat', 'w') as f:\n",
    "    \n",
    "    for _ in range(100):\n",
    "        f.write('%.6f\\n' % random.uniform(80, 200))"
   ]
  },
  {
   "cell_type": "markdown",
   "metadata": {},
   "source": [
    "## First-fit algorithm"
   ]
  },
  {
   "cell_type": "code",
   "execution_count": 86,
   "metadata": {},
   "outputs": [],
   "source": [
    "'''\n",
    "https://en.wikipedia.org/wiki/Bin_packing_problem\n",
    "'''\n",
    "\n",
    "class Bin(object):\n",
    "\n",
    "    def __init__(self):\n",
    "    \n",
    "        self.items = []\n",
    "        self.sum   = 0\n",
    "\n",
    "    def append(self, item):\n",
    "        \n",
    "        self.items.append(item)\n",
    "        self.sum += item\n",
    "\n",
    "    def result(self, index):\n",
    "        \n",
    "        total = sum(bin.items)\n",
    "        \n",
    "        place_holder = '%d\\nTOTAL: %.2f\\nITEMS: '\n",
    "        for item in self.items:\n",
    "            place_holder += '%.2f, '\n",
    "\n",
    "        place_holder = place_holder[:-2]\n",
    "\n",
    "        return place_holder % tuple([index, total] + self.items)\n",
    "\n",
    "\n",
    "def pack(values, max_value):\n",
    "    \n",
    "    values = sorted(values, reverse=True)\n",
    "    \n",
    "    bins = []\n",
    "\n",
    "    for item in values:\n",
    "\n",
    "        for bin in bins:\n",
    "        \n",
    "            if bin.sum + item <= max_value:\n",
    "                bin.append(item)\n",
    "                break\n",
    "                \n",
    "        else:\n",
    "\n",
    "            bin = Bin()\n",
    "            bin.append(item)\n",
    "            bins.append(bin)\n",
    "\n",
    "    return bins"
   ]
  },
  {
   "cell_type": "markdown",
   "metadata": {},
   "source": [
    "## Run"
   ]
  },
  {
   "cell_type": "code",
   "execution_count": 87,
   "metadata": {},
   "outputs": [
    {
     "name": "stdout",
     "output_type": "stream",
     "text": [
      "1\n",
      "TOTAL: 1937.09\n",
      "ITEMS: 199.76, 198.14, 194.27, 194.27, 193.56, 193.34, 192.83, 192.72, 189.33, 188.86\n",
      "2\n",
      "TOTAL: 1972.98\n",
      "ITEMS: 186.84, 186.51, 180.95, 180.75, 179.09, 177.95, 176.94, 176.90, 176.01, 175.74, 175.31\n",
      "3\n",
      "TOTAL: 1996.43\n",
      "ITEMS: 174.82, 173.71, 172.73, 169.51, 168.00, 164.65, 164.44, 163.53, 162.20, 161.87, 160.62, 160.37\n",
      "4\n",
      "TOTAL: 1999.73\n",
      "ITEMS: 160.23, 159.86, 159.17, 158.79, 155.93, 154.49, 153.37, 153.06, 152.91, 152.90, 151.76, 150.72, 136.54\n",
      "5\n",
      "TOTAL: 1999.38\n",
      "ITEMS: 148.91, 148.58, 148.12, 146.71, 145.36, 144.97, 144.24, 142.84, 141.57, 140.53, 139.73, 138.86, 137.80, 131.14\n",
      "6\n",
      "TOTAL: 1999.41\n",
      "ITEMS: 137.10, 131.91, 130.45, 129.42, 129.32, 128.16, 126.90, 126.75, 126.09, 122.89, 120.55, 120.53, 118.65, 118.34, 117.11, 115.26\n",
      "7\n",
      "TOTAL: 1998.44\n",
      "ITEMS: 115.12, 114.35, 113.89, 113.69, 113.50, 110.08, 109.87, 108.78, 107.59, 105.89, 105.67, 104.37, 101.32, 100.86, 100.77, 98.25, 96.92, 92.89, 84.61\n",
      "8\n",
      "TOTAL: 416.38\n",
      "ITEMS: 84.14, 83.71, 83.19, 82.94, 82.41\n",
      "\n",
      "SUM: 8 BINS, TOTAL LENGTH: 14319.85\n"
     ]
    }
   ],
   "source": [
    "rod_length_list = []\n",
    "\n",
    "with open('./rods_length.dat', 'r') as f:\n",
    "    \n",
    "    for i in f:\n",
    "        rod_length_list.append(float(i))\n",
    "        \n",
    "bins = pack(rod_length_list, 2000)\n",
    "\n",
    "\n",
    "sum_length = 0\n",
    "for i, bin in enumerate(bins):\n",
    "    total = sum(bin.items)\n",
    "    print(bin.result(i + 1))\n",
    "    sum_length += total\n",
    "\n",
    "print('\\nSUM: %d BINS, TOTAL LENGTH: %.2f' % (len(bins), sum_length))"
   ]
  },
  {
   "cell_type": "code",
   "execution_count": null,
   "metadata": {},
   "outputs": [],
   "source": []
  }
 ],
 "metadata": {
  "kernelspec": {
   "display_name": "Python 3",
   "language": "python",
   "name": "python3"
  },
  "language_info": {
   "codemirror_mode": {
    "name": "ipython",
    "version": 3
   },
   "file_extension": ".py",
   "mimetype": "text/x-python",
   "name": "python",
   "nbconvert_exporter": "python",
   "pygments_lexer": "ipython3",
   "version": "3.6.0"
  }
 },
 "nbformat": 4,
 "nbformat_minor": 2
}
