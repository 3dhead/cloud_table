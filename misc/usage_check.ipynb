{
 "cells": [
  {
   "cell_type": "code",
   "execution_count": 101,
   "metadata": {},
   "outputs": [],
   "source": [
    "pair_ids = []\n",
    "pairs = {}\n",
    "with open ('final_pair_rod.dat') as file:\n",
    "    lines = file.read().split('\\n')\n",
    "    \n",
    "    for l in lines:\n",
    "        arr = l.split(', ')\n",
    "        if len(arr) < 2:\n",
    "            continue\n",
    "        old_id = arr[0][-4:]\n",
    "        new_id = arr[1][-4:]\n",
    "        pairs[old_id] = new_id\n",
    "        pair_ids.append(old_id)"
   ]
  },
  {
   "cell_type": "code",
   "execution_count": 102,
   "metadata": {},
   "outputs": [],
   "source": [
    "cuttable_ids = []\n",
    "with open ('final_rod.dat') as file:\n",
    "    lines = file.read().split('\\n')\n",
    "    \n",
    "    for i in range(0, len(lines), 5):\n",
    "        old_id = lines[i].split(', ')[1][-4:]\n",
    "        cuttable_ids.append(old_id)"
   ]
  },
  {
   "cell_type": "code",
   "execution_count": 103,
   "metadata": {},
   "outputs": [
    {
     "name": "stdout",
     "output_type": "stream",
     "text": [
      "pair!\n"
     ]
    }
   ],
   "source": [
    "id = '1523'\n",
    "\n",
    "if id in pair_ids:\n",
    "    print('pair!')\n",
    "elif id in cuttable_ids:\n",
    "    print('cut!')\n",
    "else:\n",
    "    print('good bye')"
   ]
  },
  {
   "cell_type": "code",
   "execution_count": 106,
   "metadata": {},
   "outputs": [
    {
     "name": "stdout",
     "output_type": "stream",
     "text": [
      "3345\n"
     ]
    }
   ],
   "source": [
    "id = '2841'\n",
    "if id in pairs:\n",
    "    print(pairs[id])"
   ]
  },
  {
   "cell_type": "markdown",
   "metadata": {},
   "source": [
    "# cuttable_ids "
   ]
  },
  {
   "cell_type": "code",
   "execution_count": 56,
   "metadata": {},
   "outputs": [
    {
     "data": {
      "text/plain": [
       "['0507',\n",
       " '5658',\n",
       " '5556',\n",
       " '5158',\n",
       " '4354',\n",
       " '0006',\n",
       " '0407',\n",
       " '1115',\n",
       " '3032',\n",
       " '3637',\n",
       " '4555',\n",
       " '3638',\n",
       " '2836',\n",
       " '0001',\n",
       " '0612',\n",
       " '0912',\n",
       " '2631',\n",
       " '5354',\n",
       " '0514',\n",
       " '3344',\n",
       " '0405',\n",
       " '5459',\n",
       " '0312',\n",
       " '3141',\n",
       " '0003',\n",
       " '5156',\n",
       " '4856',\n",
       " '0711',\n",
       " '2740',\n",
       " '2435',\n",
       " '1827',\n",
       " '2432',\n",
       " '3547',\n",
       " '2641',\n",
       " '4048',\n",
       " '2122',\n",
       " '1118',\n",
       " '5357',\n",
       " '4556',\n",
       " '1415',\n",
       " '2933',\n",
       " '1529',\n",
       " '2236',\n",
       " '2536',\n",
       " '5363',\n",
       " '0117',\n",
       " '2439',\n",
       " '4347',\n",
       " '2329',\n",
       " '3452',\n",
       " '5053',\n",
       " '1930',\n",
       " '0920',\n",
       " '0926',\n",
       " '4460',\n",
       " '4652',\n",
       " '2541',\n",
       " '6062',\n",
       " '5255',\n",
       " '3846',\n",
       " '1127',\n",
       " '3537',\n",
       " '4247',\n",
       " '5562',\n",
       " '4662',\n",
       " '3446',\n",
       " '2135',\n",
       " '1129',\n",
       " '4749',\n",
       " '1937',\n",
       " '3641',\n",
       " '4552',\n",
       " '4562',\n",
       " '0517',\n",
       " '1723',\n",
       " '1035',\n",
       " '3445',\n",
       " '0011',\n",
       " '0220',\n",
       " '2853',\n",
       " '3536',\n",
       " '1335',\n",
       " '4163',\n",
       " '0611',\n",
       " '1738',\n",
       " '1122',\n",
       " '1746',\n",
       " '3136',\n",
       " '2346',\n",
       " '6263',\n",
       " '2036',\n",
       " '3863',\n",
       " '0236',\n",
       " '0036',\n",
       " '3563']"
      ]
     },
     "execution_count": 56,
     "metadata": {},
     "output_type": "execute_result"
    }
   ],
   "source": [
    "cuttable_ids"
   ]
  },
  {
   "cell_type": "code",
   "execution_count": null,
   "metadata": {},
   "outputs": [],
   "source": []
  }
 ],
 "metadata": {
  "kernelspec": {
   "display_name": "Python 3",
   "language": "python",
   "name": "python3"
  },
  "language_info": {
   "codemirror_mode": {
    "name": "ipython",
    "version": 3
   },
   "file_extension": ".py",
   "mimetype": "text/x-python",
   "name": "python",
   "nbconvert_exporter": "python",
   "pygments_lexer": "ipython3",
   "version": "3.6.6"
  }
 },
 "nbformat": 4,
 "nbformat_minor": 2
}
